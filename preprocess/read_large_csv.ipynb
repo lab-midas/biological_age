{
 "cells": [
  {
   "cell_type": "code",
   "execution_count": 6,
   "metadata": {},
   "outputs": [],
   "source": [
    "from pathlib import Path\n",
    "import pandas as pd\n",
    "import pyarrow as pa\n",
    "import pyarrow.parquet as pq\n",
    "import pyarrow.feather as feather\n",
    "import os\n",
    "import pickle"
   ]
  },
  {
   "cell_type": "code",
   "execution_count": 3,
   "metadata": {},
   "outputs": [],
   "source": [
    "def convert_mixed_types(df):\n",
    "    for col in df.columns:\n",
    "        if df[col].dtype == 'object':\n",
    "            # Convert mixed types to string (or another consistent type)\n",
    "            df[col] = df[col].astype(str)\n",
    "    return df"
   ]
  },
  {
   "cell_type": "code",
   "execution_count": null,
   "metadata": {},
   "outputs": [],
   "source": [
    "writer = None\n",
    "schema = None\n",
    "original_schema = None\n",
    "csv_file = '/mnt/qdata/rawdata/UKBIOBANK/baskets/4053862/ukb677731.csv'\n",
    "parquet_file = 'temp_cols.parquet'\n",
    "schema_file= 'schema.pickle'\n",
    "\n",
    "if os.path.exists(parquet_file):\n",
    "    os.remove(parquet_file)\n",
    "\n",
    "full_df = pd.read_csv(csv_file, nrows=10)\n",
    "original_schema = pa.Schema.from_pandas(full_df)\n",
    "\n",
    "with open(schema_file, 'wb') as f:\n",
    "    pickle.dump(original_schema, f)\n",
    "\n",
    "cols = list(full_df.columns)\n",
    "\n",
    "for i in range(0, len(cols), 1000):\n",
    "    subset_df = pd.read_csv(csv_file, usecols=cols[i:i+1000])\n",
    "    subset_df = convert_mixed_types(subset_df)\n",
    "    subset_table = pa.Table.from_pandas(subset_df)\n",
    "    \n",
    "    if i == 0:\n",
    "        writer = pq.ParquetWriter(parquet_file, subset_table.schema)\n",
    "\n",
    "    writer.write_table(subset_table)\n",
    "\n",
    "writer.close()\n"
   ]
  }
 ],
 "metadata": {
  "kernelspec": {
   "display_name": "nakoukb",
   "language": "python",
   "name": "python3"
  },
  "language_info": {
   "codemirror_mode": {
    "name": "ipython",
    "version": 3
   },
   "file_extension": ".py",
   "mimetype": "text/x-python",
   "name": "python",
   "nbconvert_exporter": "python",
   "pygments_lexer": "ipython3",
   "version": "3.9.19"
  }
 },
 "nbformat": 4,
 "nbformat_minor": 2
}
