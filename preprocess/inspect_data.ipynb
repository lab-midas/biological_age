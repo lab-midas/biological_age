{
 "cells": [
  {
   "cell_type": "code",
   "execution_count": 1,
   "metadata": {},
   "outputs": [
    {
     "name": "stdout",
     "output_type": "stream",
     "text": [
      "(180, 220, 205)\n",
      "-128.0 4081.0\n"
     ]
    }
   ],
   "source": [
    "import nibabel as nib\n",
    "import cv2\n",
    "import numpy as np\n",
    "import matplotlib.pyplot as plt\n",
    "\n",
    "\n",
    "#data = '/mnt/qdata/rawdata/NAKO_706/NAKO_706_nifti/3D_GRE_TRA_W_COMPOSED/100000_30/water.nii.gz'\n",
    "#data = '/mnt/qdata/rawdata/UKBIOBANK/ukbdata_70k/abdominal_MRI/processed/1000029/wat.nii.gz'\n",
    "data = '/mnt/qdata/rawdata/UKBIOBANK/ukbdata_70k/t1_brain/raw/1000243_2_T1.nii.gz'\n",
    "#data = '/mnt/qdata/rawdata/UKBIOBANK/ukbdata_70k/sa_heart/raw/1000029_2_sa.nii.gz'\n",
    "\n",
    "img = nib.load(data)\n",
    "img_data = img.get_fdata()\n",
    "print(img_data.shape)\n",
    "print(img_data.min(), img_data.max())\n",
    "#img_rot = np.rot90(img_data[:,:,])\n",
    "#new_size = (img_rot.shape[0], img_rot.shape[1]*2)\n",
    "#print(new_size)\n",
    "#img_rot = cv2.resize(img_rot, new_size)\n",
    "#plt.imshow(img_rot, cmap='gray')\n",
    "#plt.imshow(img_data[:,:,img_data.shape[2]//2, 0], cmap='gray')"
   ]
  },
  {
   "cell_type": "code",
   "execution_count": 4,
   "metadata": {},
   "outputs": [
    {
     "name": "stdout",
     "output_type": "stream",
     "text": [
      "Group: //fat\n",
      "Group: //fat/10002530\n"
     ]
    },
    {
     "ename": "KeyError",
     "evalue": "\"Unable to open object (unable to open external file, external link file name = '/mnt/qdata/share/raeckev1/nako_30k/interim/nako_lkd_preprocessed.h5')\"",
     "output_type": "error",
     "traceback": [
      "\u001b[0;31m---------------------------------------------------------------------------\u001b[0m",
      "\u001b[0;31mKeyError\u001b[0m                                  Traceback (most recent call last)",
      "Cell \u001b[0;32mIn[4], line 37\u001b[0m\n\u001b[1;32m     34\u001b[0m \u001b[38;5;66;03m# Open the HDF5 file\u001b[39;00m\n\u001b[1;32m     35\u001b[0m \u001b[38;5;28;01mwith\u001b[39;00m h5py\u001b[38;5;241m.\u001b[39mFile(file_path, \u001b[38;5;124m'\u001b[39m\u001b[38;5;124mr\u001b[39m\u001b[38;5;124m'\u001b[39m) \u001b[38;5;28;01mas\u001b[39;00m hdf:\n\u001b[1;32m     36\u001b[0m     \u001b[38;5;66;03m# Recursively inspect the HDF5 file\u001b[39;00m\n\u001b[0;32m---> 37\u001b[0m     \u001b[43mrecursively_inspect\u001b[49m\u001b[43m(\u001b[49m\u001b[43mhdf\u001b[49m\u001b[43m)\u001b[49m\n",
      "Cell \u001b[0;32mIn[4], line 22\u001b[0m, in \u001b[0;36mrecursively_inspect\u001b[0;34m(hdf, path)\u001b[0m\n\u001b[1;32m     20\u001b[0m     \u001b[38;5;28mprint\u001b[39m(\u001b[38;5;124mf\u001b[39m\u001b[38;5;124m\"\u001b[39m\u001b[38;5;124mGroup: \u001b[39m\u001b[38;5;132;01m{\u001b[39;00mitem_path\u001b[38;5;132;01m}\u001b[39;00m\u001b[38;5;124m\"\u001b[39m)\n\u001b[1;32m     21\u001b[0m     \u001b[38;5;66;03m# Recursively inspect the group\u001b[39;00m\n\u001b[0;32m---> 22\u001b[0m     \u001b[43mrecursively_inspect\u001b[49m\u001b[43m(\u001b[49m\u001b[43mhdf\u001b[49m\u001b[43m,\u001b[49m\u001b[43m \u001b[49m\u001b[43mitem_path\u001b[49m\u001b[43m)\u001b[49m\n\u001b[1;32m     23\u001b[0m \u001b[38;5;28;01melif\u001b[39;00m \u001b[38;5;28misinstance\u001b[39m(item, h5py\u001b[38;5;241m.\u001b[39mDataset):\n\u001b[1;32m     24\u001b[0m     \u001b[38;5;28mprint\u001b[39m(\u001b[38;5;124mf\u001b[39m\u001b[38;5;124m\"\u001b[39m\u001b[38;5;124mDataset: \u001b[39m\u001b[38;5;132;01m{\u001b[39;00mitem_path\u001b[38;5;132;01m}\u001b[39;00m\u001b[38;5;124m\"\u001b[39m)\n",
      "Cell \u001b[0;32mIn[4], line 22\u001b[0m, in \u001b[0;36mrecursively_inspect\u001b[0;34m(hdf, path)\u001b[0m\n\u001b[1;32m     20\u001b[0m     \u001b[38;5;28mprint\u001b[39m(\u001b[38;5;124mf\u001b[39m\u001b[38;5;124m\"\u001b[39m\u001b[38;5;124mGroup: \u001b[39m\u001b[38;5;132;01m{\u001b[39;00mitem_path\u001b[38;5;132;01m}\u001b[39;00m\u001b[38;5;124m\"\u001b[39m)\n\u001b[1;32m     21\u001b[0m     \u001b[38;5;66;03m# Recursively inspect the group\u001b[39;00m\n\u001b[0;32m---> 22\u001b[0m     \u001b[43mrecursively_inspect\u001b[49m\u001b[43m(\u001b[49m\u001b[43mhdf\u001b[49m\u001b[43m,\u001b[49m\u001b[43m \u001b[49m\u001b[43mitem_path\u001b[49m\u001b[43m)\u001b[49m\n\u001b[1;32m     23\u001b[0m \u001b[38;5;28;01melif\u001b[39;00m \u001b[38;5;28misinstance\u001b[39m(item, h5py\u001b[38;5;241m.\u001b[39mDataset):\n\u001b[1;32m     24\u001b[0m     \u001b[38;5;28mprint\u001b[39m(\u001b[38;5;124mf\u001b[39m\u001b[38;5;124m\"\u001b[39m\u001b[38;5;124mDataset: \u001b[39m\u001b[38;5;132;01m{\u001b[39;00mitem_path\u001b[38;5;132;01m}\u001b[39;00m\u001b[38;5;124m\"\u001b[39m)\n",
      "Cell \u001b[0;32mIn[4], line 16\u001b[0m, in \u001b[0;36mrecursively_inspect\u001b[0;34m(hdf, path)\u001b[0m\n\u001b[1;32m     14\u001b[0m \u001b[38;5;66;03m# Iterate over the items in the group\u001b[39;00m\n\u001b[1;32m     15\u001b[0m \u001b[38;5;28;01mfor\u001b[39;00m key \u001b[38;5;129;01min\u001b[39;00m group\u001b[38;5;241m.\u001b[39mkeys():\n\u001b[0;32m---> 16\u001b[0m     item \u001b[38;5;241m=\u001b[39m \u001b[43mgroup\u001b[49m\u001b[43m[\u001b[49m\u001b[43mkey\u001b[49m\u001b[43m]\u001b[49m\n\u001b[1;32m     17\u001b[0m     item_path \u001b[38;5;241m=\u001b[39m \u001b[38;5;124mf\u001b[39m\u001b[38;5;124m\"\u001b[39m\u001b[38;5;132;01m{\u001b[39;00mpath\u001b[38;5;132;01m}\u001b[39;00m\u001b[38;5;124m/\u001b[39m\u001b[38;5;132;01m{\u001b[39;00mkey\u001b[38;5;132;01m}\u001b[39;00m\u001b[38;5;124m\"\u001b[39m\n\u001b[1;32m     19\u001b[0m     \u001b[38;5;28;01mif\u001b[39;00m \u001b[38;5;28misinstance\u001b[39m(item, h5py\u001b[38;5;241m.\u001b[39mGroup):\n",
      "File \u001b[0;32mh5py/_objects.pyx:54\u001b[0m, in \u001b[0;36mh5py._objects.with_phil.wrapper\u001b[0;34m()\u001b[0m\n",
      "File \u001b[0;32mh5py/_objects.pyx:55\u001b[0m, in \u001b[0;36mh5py._objects.with_phil.wrapper\u001b[0;34m()\u001b[0m\n",
      "File \u001b[0;32m/opt/conda/raecker1/envs/nakoukb/lib/python3.9/site-packages/h5py/_hl/group.py:305\u001b[0m, in \u001b[0;36mGroup.__getitem__\u001b[0;34m(self, name)\u001b[0m\n\u001b[1;32m    303\u001b[0m         \u001b[38;5;28;01mraise\u001b[39;00m \u001b[38;5;167;01mValueError\u001b[39;00m(\u001b[38;5;124m\"\u001b[39m\u001b[38;5;124mInvalid HDF5 object reference\u001b[39m\u001b[38;5;124m\"\u001b[39m)\n\u001b[1;32m    304\u001b[0m \u001b[38;5;28;01melif\u001b[39;00m \u001b[38;5;28misinstance\u001b[39m(name, (\u001b[38;5;28mbytes\u001b[39m, \u001b[38;5;28mstr\u001b[39m)):\n\u001b[0;32m--> 305\u001b[0m     oid \u001b[38;5;241m=\u001b[39m \u001b[43mh5o\u001b[49m\u001b[38;5;241;43m.\u001b[39;49m\u001b[43mopen\u001b[49m\u001b[43m(\u001b[49m\u001b[38;5;28;43mself\u001b[39;49m\u001b[38;5;241;43m.\u001b[39;49m\u001b[43mid\u001b[49m\u001b[43m,\u001b[49m\u001b[43m \u001b[49m\u001b[38;5;28;43mself\u001b[39;49m\u001b[38;5;241;43m.\u001b[39;49m\u001b[43m_e\u001b[49m\u001b[43m(\u001b[49m\u001b[43mname\u001b[49m\u001b[43m)\u001b[49m\u001b[43m,\u001b[49m\u001b[43m \u001b[49m\u001b[43mlapl\u001b[49m\u001b[38;5;241;43m=\u001b[39;49m\u001b[38;5;28;43mself\u001b[39;49m\u001b[38;5;241;43m.\u001b[39;49m\u001b[43m_lapl\u001b[49m\u001b[43m)\u001b[49m\n\u001b[1;32m    306\u001b[0m \u001b[38;5;28;01melse\u001b[39;00m:\n\u001b[1;32m    307\u001b[0m     \u001b[38;5;28;01mraise\u001b[39;00m \u001b[38;5;167;01mTypeError\u001b[39;00m(\u001b[38;5;124m\"\u001b[39m\u001b[38;5;124mAccessing a group is done with bytes or str, \u001b[39m\u001b[38;5;124m\"\u001b[39m\n\u001b[1;32m    308\u001b[0m                     \u001b[38;5;124m\"\u001b[39m\u001b[38;5;124m not \u001b[39m\u001b[38;5;132;01m{}\u001b[39;00m\u001b[38;5;124m\"\u001b[39m\u001b[38;5;241m.\u001b[39mformat(\u001b[38;5;28mtype\u001b[39m(name)))\n",
      "File \u001b[0;32mh5py/_objects.pyx:54\u001b[0m, in \u001b[0;36mh5py._objects.with_phil.wrapper\u001b[0;34m()\u001b[0m\n",
      "File \u001b[0;32mh5py/_objects.pyx:55\u001b[0m, in \u001b[0;36mh5py._objects.with_phil.wrapper\u001b[0;34m()\u001b[0m\n",
      "File \u001b[0;32mh5py/h5o.pyx:190\u001b[0m, in \u001b[0;36mh5py.h5o.open\u001b[0;34m()\u001b[0m\n",
      "\u001b[0;31mKeyError\u001b[0m: \"Unable to open object (unable to open external file, external link file name = '/mnt/qdata/share/raeckev1/nako_30k/interim/nako_lkd_preprocessed.h5')\""
     ]
    }
   ],
   "source": [
    "import h5py\n",
    "\n",
    "def recursively_inspect(hdf, path='/'):\n",
    "    \"\"\"\n",
    "    Recursively inspect the HDF5 file structure.\n",
    "    \n",
    "    Parameters:\n",
    "    - hdf: h5py.File or h5py.Group object\n",
    "    - path: current path in the HDF5 file\n",
    "    \"\"\"\n",
    "    # Get the current group\n",
    "    group = hdf[path]\n",
    "    \n",
    "    # Iterate over the items in the group\n",
    "    for key in group.keys():\n",
    "        item = group[key]\n",
    "        item_path = f\"{path}/{key}\"\n",
    "        \n",
    "        if isinstance(item, h5py.Group):\n",
    "            print(f\"Group: {item_path}\")\n",
    "            # Recursively inspect the group\n",
    "            recursively_inspect(hdf, item_path)\n",
    "        elif isinstance(item, h5py.Dataset):\n",
    "            print(f\"Dataset: {item_path}\")\n",
    "            print(f\"  Shape: {item.shape}\")\n",
    "            print(f\"  Data type: {item.dtype}\")\n",
    "        else:\n",
    "            print(f\"Unknown item type at {item_path}\")\n",
    "\n",
    "# File path\n",
    "#file_path = '/mnt/qdata/share/raeckev1/nako_30k/interim/nako_kidney_preprocessed.h5'\n",
    "file_path = '/mnt/qdata/share/raecker1/nako_test/nako_kidney_preprocessed.h5'\n",
    "\n",
    "# Open the HDF5 file\n",
    "with h5py.File(file_path, 'r') as hdf:\n",
    "    # Recursively inspect the HDF5 file\n",
    "    recursively_inspect(hdf)"
   ]
  },
  {
   "cell_type": "code",
   "execution_count": null,
   "metadata": {},
   "outputs": [
    {
     "ename": "",
     "evalue": "",
     "output_type": "error",
     "traceback": [
      "\u001b[1;31mThe kernel failed to start as '/opt/conda/raecker1/envs/nakoukb/lib/python3.9/site-packages/psutil/_psutil_linux.cpython-39-x86_64-linux-gnu.so' could not be imported from '5.9.0 instead of 6.0.0'.\n",
      "\u001b[1;31mClick <a href='https://aka.ms/kernelFailuresModuleImportErrFromFile'>here</a> for more info."
     ]
    }
   ],
   "source": [
    "import h5py\n",
    "import numpy as np\n",
    "from scipy.ndimage import zoom\n",
    "\n",
    "def downsample_image(image, target_dim, target_size):\n",
    "    \"\"\"\n",
    "    Downsample a 3D image to a new size along a given dimension, preserving aspect ratio.\n",
    "\n",
    "    Parameters:\n",
    "    - image: 3D numpy array (e.g., shape (depth, height, width))\n",
    "    - target_dim: int (0 for depth, 1 for height, 2 for width)\n",
    "    - target_size: int (desired size for the specified dimension)\n",
    "\n",
    "    Returns:\n",
    "    - downsampled_image: 3D numpy array with the new size, maintaining aspect ratio\n",
    "    \"\"\"\n",
    "    # Get the original dimensions of the image\n",
    "    original_shape = np.array(image.shape)\n",
    "    \n",
    "    # Calculate the scaling factor for the target dimension\n",
    "    scale_factor = target_size / original_shape[target_dim]\n",
    "    \n",
    "    # Calculate the new shape for all dimensions\n",
    "    new_shape = (original_shape * scale_factor).astype(int)\n",
    "    \n",
    "    # Resize the image using the scaling factor for each dimension\n",
    "    scaling_factors = new_shape / original_shape\n",
    "    downsampled_image = zoom(image, scaling_factors, order=1)  # order=1 is bilinear interpolation\n",
    "\n",
    "    return downsampled_image\n",
    "\n",
    "if __name__ == '__main__':\n",
    "    # Open the HDF5 file\n",
    "    #file_path_new = '/mnt/qdata/share/rakuest1/data/UKB/interim/ukb_pnc_preprocessed.h5'\n",
    "    file_path_new = '/mnt/qdata/share/raecker1/nako_30k/interim/nako_pnc_preprocessed.h5'\n",
    "\n",
    "    with h5py.File(file_path_new, 'r') as hdf_new:\n",
    "        # Get the keys of the new HDF5 file\n",
    "        keys_new = list(hdf_new.keys())\n",
    "        print(keys_new)\n",
    "        data = hdf_new['fat']\n",
    "        print(data.shape)\n",
    "        \n",
    "\n",
    "        print('done')"
   ]
  },
  {
   "cell_type": "code",
   "execution_count": 17,
   "metadata": {},
   "outputs": [
    {
     "name": "stdout",
     "output_type": "stream",
     "text": [
      "39.0\n"
     ]
    }
   ],
   "source": [
    "import pandas as pd\n",
    "import numpy as np\n",
    "\n",
    "info = '/mnt/qdata/share/raecker1/nako_30k/interim/nako_all.csv'\n",
    "column = 'age'\n",
    "key = '124415'\n",
    "info_df = pd.read_csv(info, index_col='key', dtype={'key': 'string', column: np.float32})\n",
    "label = info_df.loc[key][column]\n",
    "print(label)\n"
   ]
  },
  {
   "cell_type": "code",
   "execution_count": null,
   "metadata": {},
   "outputs": [],
   "source": []
  }
 ],
 "metadata": {
  "kernelspec": {
   "display_name": "Python 3",
   "language": "python",
   "name": "python3"
  },
  "language_info": {
   "codemirror_mode": {
    "name": "ipython",
    "version": 3
   },
   "file_extension": ".py",
   "mimetype": "text/x-python",
   "name": "python",
   "nbconvert_exporter": "python",
   "pygments_lexer": "ipython3",
   "version": "3.9.19"
  }
 },
 "nbformat": 4,
 "nbformat_minor": 2
}
